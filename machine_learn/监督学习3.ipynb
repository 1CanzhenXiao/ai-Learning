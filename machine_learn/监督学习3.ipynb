{
 "cells": [
  {
   "cell_type": "markdown",
   "id": "d83381cc",
   "metadata": {},
   "source": [
    "## 用于分类的线性模型"
   ]
  },
  {
   "cell_type": "markdown",
   "id": "0c7d9969",
   "metadata": {},
   "source": [
    "线性模型也用于分类问题，首先来看看二分类："
   ]
  },
  {
   "cell_type": "markdown",
   "id": "6ae86601",
   "metadata": {},
   "source": [
    "$\\hat{y} = w[0] * x[0] + w[1] * x[1] + ... + w[p] *x[p] + b > 0$"
   ]
  },
  {
   "cell_type": "markdown",
   "id": "683d39b4",
   "metadata": {},
   "source": [
    "该公式看起来与线性回归的公式相同，但在此，返回的$\\hat{y}$并不是特征的加权求和，返回的函数值其实要与设置的**阈值**进行比较。如果函数值小于0，则设置类别为-1（可以自定义），大于0则设置类别为1。对于所有用于分类的线性模型，预测规则通用。"
   ]
  },
  {
   "cell_type": "markdown",
   "id": "a0cb2b39",
   "metadata": {},
   "source": [
    "对于线性回归的模型，返回的是描述特征的函数，可能是直线，平面，超平面。对于线性分类模型，输入函数是**决策边界**。换句话说，线性分类器是利用直线，平面或者超平面来分开类别的分类器（不限于二分类）。"
   ]
  },
  {
   "cell_type": "markdown",
   "id": "0f3ba01b",
   "metadata": {},
   "source": [
    "学习线性模型有很多算法，区别于下面两点：\n",
    "- 系数和截距的特点组合对训练数据拟合好坏的度量方法(**损失函数**)\n",
    "- 是否使用正则化及使用的是哪种正则化的方法\n",
    "\n",
    "不同的算法使用不同的方法度量“对训练集拟合的好坏”。但是由于数学技术上的原因，不可能调节$w$和$b$使得算法产生的误分类数量最少。所以说上面的第一条的选择并不重要。"
   ]
  },
  {
   "cell_type": "markdown",
   "id": "f15d4b43",
   "metadata": {},
   "source": [
    "最常见的两种线性分类算法是**Logistic**回归和**线性支持向量机**。前者在linear_model.LogisticRegression,后者在svm.LinearSVC。前者虽然带有Regression一词，但其不为回归算法，而是分类算法，不应与LinearRegression混淆。"
   ]
  }
 ],
 "metadata": {
  "kernelspec": {
   "display_name": "Python 3",
   "language": "python",
   "name": "python3"
  },
  "language_info": {
   "codemirror_mode": {
    "name": "ipython",
    "version": 3
   },
   "file_extension": ".py",
   "mimetype": "text/x-python",
   "name": "python",
   "nbconvert_exporter": "python",
   "pygments_lexer": "ipython3",
   "version": "3.6.5"
  }
 },
 "nbformat": 4,
 "nbformat_minor": 5
}
